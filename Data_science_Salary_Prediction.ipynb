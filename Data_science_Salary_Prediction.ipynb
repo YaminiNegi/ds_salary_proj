{
 "cells": [
  {
   "cell_type": "code",
   "execution_count": 6,
   "metadata": {},
   "outputs": [
    {
     "name": "stdout",
     "output_type": "stream",
     "text": [
      "x out worked\n",
      "Progress: 0/2\n",
      "Progress: 1/2\n",
      "Progress: 2/2\n"
     ]
    }
   ],
   "source": [
    "%run glassdoor_scrapers.ipynb\n",
    "import pandas as pd\n",
    "path = \"C:\\Program Files (x86)\\chromedriver.exe\"\n",
    "df = get_jobs('data science',2,False,path,15)\n",
    "df.to_csv(\"glassdoor_jobs.csv\",index=False)"
   ]
  },
  {
   "cell_type": "code",
   "execution_count": null,
   "metadata": {},
   "outputs": [],
   "source": [
    "df.head()"
   ]
  },
  {
   "cell_type": "code",
   "execution_count": null,
   "metadata": {},
   "outputs": [],
   "source": []
  }
 ],
 "metadata": {
  "kernelspec": {
   "display_name": "Python 3",
   "language": "python",
   "name": "python3"
  },
  "language_info": {
   "codemirror_mode": {
    "name": "ipython",
    "version": 3
   },
   "file_extension": ".py",
   "mimetype": "text/x-python",
   "name": "python",
   "nbconvert_exporter": "python",
   "pygments_lexer": "ipython3",
   "version": "3.8.3"
  }
 },
 "nbformat": 4,
 "nbformat_minor": 4
}
