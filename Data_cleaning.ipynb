{
 "cells": [
  {
   "cell_type": "code",
   "execution_count": 1,
   "metadata": {},
   "outputs": [],
   "source": [
    "import pandas as pd\n",
    "df=pd.read_csv('glassdoor_jobs.csv')"
   ]
  },
  {
   "cell_type": "code",
   "execution_count": 2,
   "metadata": {},
   "outputs": [
    {
     "data": {
      "text/html": [
       "<div>\n",
       "<style scoped>\n",
       "    .dataframe tbody tr th:only-of-type {\n",
       "        vertical-align: middle;\n",
       "    }\n",
       "\n",
       "    .dataframe tbody tr th {\n",
       "        vertical-align: top;\n",
       "    }\n",
       "\n",
       "    .dataframe thead th {\n",
       "        text-align: right;\n",
       "    }\n",
       "</style>\n",
       "<table border=\"1\" class=\"dataframe\">\n",
       "  <thead>\n",
       "    <tr style=\"text-align: right;\">\n",
       "      <th></th>\n",
       "      <th>Job Title</th>\n",
       "      <th>Salary Estimate</th>\n",
       "      <th>Job Description</th>\n",
       "      <th>Rating</th>\n",
       "      <th>Company Name</th>\n",
       "      <th>Location</th>\n",
       "      <th>Headquarters</th>\n",
       "      <th>Size</th>\n",
       "      <th>Founded</th>\n",
       "      <th>Type of ownership</th>\n",
       "      <th>Industry</th>\n",
       "      <th>Sector</th>\n",
       "      <th>Revenue</th>\n",
       "      <th>Competitors</th>\n",
       "    </tr>\n",
       "  </thead>\n",
       "  <tbody>\n",
       "    <tr>\n",
       "      <th>0</th>\n",
       "      <td>Real World Science, Data Scientist</td>\n",
       "      <td>$92K-$151K (Glassdoor Est.)</td>\n",
       "      <td>Title: Real World Science, Data Scientist\\nLoc...</td>\n",
       "      <td>4.0</td>\n",
       "      <td>AstraZeneca\\n4.0</td>\n",
       "      <td>Gaithersburg, MD</td>\n",
       "      <td>-1</td>\n",
       "      <td>10000+ Employees</td>\n",
       "      <td>1913</td>\n",
       "      <td>Company - Public</td>\n",
       "      <td>Biotech &amp; Pharmaceuticals</td>\n",
       "      <td>Biotech &amp; Pharmaceuticals</td>\n",
       "      <td>$10+ billion (USD)</td>\n",
       "      <td>-1</td>\n",
       "    </tr>\n",
       "    <tr>\n",
       "      <th>1</th>\n",
       "      <td>Director of Data Sciences</td>\n",
       "      <td>$92K-$151K (Glassdoor Est.)</td>\n",
       "      <td>Job Description:\\nThis position is responsible...</td>\n",
       "      <td>3.9</td>\n",
       "      <td>Yes Marketing\\n3.9</td>\n",
       "      <td>Omaha, NE</td>\n",
       "      <td>-1</td>\n",
       "      <td>201 to 500 Employees</td>\n",
       "      <td>2000</td>\n",
       "      <td>Subsidiary or Business Segment</td>\n",
       "      <td>Advertising &amp; Marketing</td>\n",
       "      <td>Business Services</td>\n",
       "      <td>Unknown / Non-Applicable</td>\n",
       "      <td>-1</td>\n",
       "    </tr>\n",
       "    <tr>\n",
       "      <th>2</th>\n",
       "      <td>Data Analyst</td>\n",
       "      <td>$92K-$151K (Glassdoor Est.)</td>\n",
       "      <td>Summary: The Information Technology Data Analy...</td>\n",
       "      <td>3.6</td>\n",
       "      <td>Girls Inc\\n3.6</td>\n",
       "      <td>Indianapolis, IN</td>\n",
       "      <td>-1</td>\n",
       "      <td>51 to 200 Employees</td>\n",
       "      <td>1945</td>\n",
       "      <td>Nonprofit Organization</td>\n",
       "      <td>Social Assistance</td>\n",
       "      <td>Non-Profit</td>\n",
       "      <td>$5 to $10 million (USD)</td>\n",
       "      <td>-1</td>\n",
       "    </tr>\n",
       "    <tr>\n",
       "      <th>3</th>\n",
       "      <td>Data Scientist</td>\n",
       "      <td>$92K-$151K (Glassdoor Est.)</td>\n",
       "      <td>Job Description:\\n\\nMetron is seeking talented...</td>\n",
       "      <td>3.0</td>\n",
       "      <td>Metron, Inc.\\n3.0</td>\n",
       "      <td>Reston, VA</td>\n",
       "      <td>-1</td>\n",
       "      <td>51 to 200 Employees</td>\n",
       "      <td>-1</td>\n",
       "      <td>Company - Private</td>\n",
       "      <td>Electrical &amp; Electronic Manufacturing</td>\n",
       "      <td>Manufacturing</td>\n",
       "      <td>$25 to $50 million (USD)</td>\n",
       "      <td>-1</td>\n",
       "    </tr>\n",
       "    <tr>\n",
       "      <th>4</th>\n",
       "      <td>Data Analyst</td>\n",
       "      <td>$92K-$151K (Glassdoor Est.)</td>\n",
       "      <td>Breckenridge Grand Vacations (BGV) is seeking ...</td>\n",
       "      <td>4.3</td>\n",
       "      <td>Breckenridge Grand Vacations\\n4.3</td>\n",
       "      <td>Breckenridge, CO</td>\n",
       "      <td>-1</td>\n",
       "      <td>501 to 1000 Employees</td>\n",
       "      <td>1984</td>\n",
       "      <td>Company - Private</td>\n",
       "      <td>Hotels, Motels, &amp; Resorts</td>\n",
       "      <td>Travel &amp; Tourism</td>\n",
       "      <td>$10 to $25 million (USD)</td>\n",
       "      <td>-1</td>\n",
       "    </tr>\n",
       "  </tbody>\n",
       "</table>\n",
       "</div>"
      ],
      "text/plain": [
       "                            Job Title              Salary Estimate  \\\n",
       "0  Real World Science, Data Scientist  $92K-$151K (Glassdoor Est.)   \n",
       "1           Director of Data Sciences  $92K-$151K (Glassdoor Est.)   \n",
       "2                        Data Analyst  $92K-$151K (Glassdoor Est.)   \n",
       "3                      Data Scientist  $92K-$151K (Glassdoor Est.)   \n",
       "4                        Data Analyst  $92K-$151K (Glassdoor Est.)   \n",
       "\n",
       "                                     Job Description  Rating  \\\n",
       "0  Title: Real World Science, Data Scientist\\nLoc...     4.0   \n",
       "1  Job Description:\\nThis position is responsible...     3.9   \n",
       "2  Summary: The Information Technology Data Analy...     3.6   \n",
       "3  Job Description:\\n\\nMetron is seeking talented...     3.0   \n",
       "4  Breckenridge Grand Vacations (BGV) is seeking ...     4.3   \n",
       "\n",
       "                        Company Name          Location  Headquarters  \\\n",
       "0                   AstraZeneca\\n4.0  Gaithersburg, MD            -1   \n",
       "1                 Yes Marketing\\n3.9         Omaha, NE            -1   \n",
       "2                     Girls Inc\\n3.6  Indianapolis, IN            -1   \n",
       "3                  Metron, Inc.\\n3.0        Reston, VA            -1   \n",
       "4  Breckenridge Grand Vacations\\n4.3  Breckenridge, CO            -1   \n",
       "\n",
       "                    Size  Founded               Type of ownership  \\\n",
       "0       10000+ Employees     1913                Company - Public   \n",
       "1   201 to 500 Employees     2000  Subsidiary or Business Segment   \n",
       "2    51 to 200 Employees     1945          Nonprofit Organization   \n",
       "3    51 to 200 Employees       -1               Company - Private   \n",
       "4  501 to 1000 Employees     1984               Company - Private   \n",
       "\n",
       "                                Industry                     Sector  \\\n",
       "0              Biotech & Pharmaceuticals  Biotech & Pharmaceuticals   \n",
       "1                Advertising & Marketing          Business Services   \n",
       "2                      Social Assistance                 Non-Profit   \n",
       "3  Electrical & Electronic Manufacturing              Manufacturing   \n",
       "4              Hotels, Motels, & Resorts           Travel & Tourism   \n",
       "\n",
       "                    Revenue  Competitors  \n",
       "0        $10+ billion (USD)           -1  \n",
       "1  Unknown / Non-Applicable           -1  \n",
       "2   $5 to $10 million (USD)           -1  \n",
       "3  $25 to $50 million (USD)           -1  \n",
       "4  $10 to $25 million (USD)           -1  "
      ]
     },
     "execution_count": 2,
     "metadata": {},
     "output_type": "execute_result"
    }
   ],
   "source": [
    "df.head()"
   ]
  },
  {
   "cell_type": "code",
   "execution_count": 17,
   "metadata": {},
   "outputs": [
    {
     "data": {
      "text/plain": [
       "(700, 14)"
      ]
     },
     "execution_count": 17,
     "metadata": {},
     "output_type": "execute_result"
    }
   ],
   "source": [
    "df=df[df['Salary Estimate'] !='-1']\n",
    "df.shape"
   ]
  },
  {
   "cell_type": "code",
   "execution_count": 57,
   "metadata": {},
   "outputs": [],
   "source": [
    "salary = df[\"Salary Estimate\"].apply(lambda x: x.split(' ')[0])   "
   ]
  },
  {
   "cell_type": "code",
   "execution_count": 58,
   "metadata": {},
   "outputs": [
    {
     "data": {
      "text/plain": [
       "0    $92K-$151K\n",
       "1    $92K-$151K\n",
       "2    $92K-$151K\n",
       "3    $92K-$151K\n",
       "4    $92K-$151K\n",
       "Name: Salary Estimate, dtype: object"
      ]
     },
     "execution_count": 58,
     "metadata": {},
     "output_type": "execute_result"
    }
   ],
   "source": [
    "salary.head()"
   ]
  },
  {
   "cell_type": "code",
   "execution_count": 59,
   "metadata": {},
   "outputs": [
    {
     "data": {
      "text/plain": [
       "array(['$92K-$151K', '$103K-$166K', '$90K-$149K', '$66K-$114K',\n",
       "       '$57K-$102K', '$125K-$150K', '$78K-$138K', '$45K-$97K',\n",
       "       '$88K-$150K', '$64K-$169K', '$81K-$100K', '$127K-$211K',\n",
       "       '$87K-$143K', '$72K-$125K', '$90K-$146K', '$83K-$136K',\n",
       "       '$72K-$122K', '$101K-$133K', '$75K-$127K', '$96K-$154K',\n",
       "       '$75K-$148K'], dtype=object)"
      ]
     },
     "execution_count": 59,
     "metadata": {},
     "output_type": "execute_result"
    }
   ],
   "source": [
    "salary.unique()"
   ]
  },
  {
   "cell_type": "code",
   "execution_count": 63,
   "metadata": {},
   "outputs": [
    {
     "data": {
      "text/plain": [
       "array([' 92 - 151 ', ' 103 - 166 ', ' 90 - 149 ', ' 66 - 114 ',\n",
       "       ' 57 - 102 ', ' 125 - 150 ', ' 78 - 138 ', ' 45 - 97 ',\n",
       "       ' 88 - 150 ', ' 64 - 169 ', ' 81 - 100 ', ' 127 - 211 ',\n",
       "       ' 87 - 143 ', ' 72 - 125 ', ' 90 - 146 ', ' 83 - 136 ',\n",
       "       ' 72 - 122 ', ' 101 - 133 ', ' 75 - 127 ', ' 96 - 154 ',\n",
       "       ' 75 - 148 '], dtype=object)"
      ]
     },
     "execution_count": 63,
     "metadata": {},
     "output_type": "execute_result"
    }
   ],
   "source": [
    "clean_salary=salary.apply(lambda x: x.replace('K',\" \").replace(\"$\",\" \"))\n",
    "clean_salary.unique()"
   ]
  },
  {
   "cell_type": "code",
   "execution_count": 75,
   "metadata": {},
   "outputs": [],
   "source": [
    "df['min_salary']=clean_salary.apply(lambda x: int(x.split(\"-\")[0]))\n",
    "df['max_salary']=clean_salary.apply(lambda x: int(x.split(\"-\")[1]))\n",
    "df['avg_salary']=(df.min_salary+df.max_salary)/2                                    "
   ]
  },
  {
   "cell_type": "code",
   "execution_count": 211,
   "metadata": {},
   "outputs": [
    {
     "data": {
      "text/html": [
       "<div>\n",
       "<style scoped>\n",
       "    .dataframe tbody tr th:only-of-type {\n",
       "        vertical-align: middle;\n",
       "    }\n",
       "\n",
       "    .dataframe tbody tr th {\n",
       "        vertical-align: top;\n",
       "    }\n",
       "\n",
       "    .dataframe thead th {\n",
       "        text-align: right;\n",
       "    }\n",
       "</style>\n",
       "<table border=\"1\" class=\"dataframe\">\n",
       "  <thead>\n",
       "    <tr style=\"text-align: right;\">\n",
       "      <th></th>\n",
       "      <th>Job Title</th>\n",
       "      <th>Salary Estimate</th>\n",
       "      <th>Job Description</th>\n",
       "      <th>Rating</th>\n",
       "      <th>Company Name</th>\n",
       "      <th>Location</th>\n",
       "      <th>Headquarters</th>\n",
       "      <th>Size</th>\n",
       "      <th>Founded</th>\n",
       "      <th>Type of ownership</th>\n",
       "      <th>...</th>\n",
       "      <th>Sector</th>\n",
       "      <th>Revenue</th>\n",
       "      <th>Competitors</th>\n",
       "      <th>min_salary</th>\n",
       "      <th>max_salary</th>\n",
       "      <th>avg_salary</th>\n",
       "      <th>company_text</th>\n",
       "      <th>job_state</th>\n",
       "      <th>same_state</th>\n",
       "      <th>age</th>\n",
       "    </tr>\n",
       "  </thead>\n",
       "  <tbody>\n",
       "    <tr>\n",
       "      <th>0</th>\n",
       "      <td>Real World Science, Data Scientist</td>\n",
       "      <td>$92K-$151K (Glassdoor Est.)</td>\n",
       "      <td>Title: Real World Science, Data Scientist\\nLoc...</td>\n",
       "      <td>4.0</td>\n",
       "      <td>AstraZeneca\\n4.0</td>\n",
       "      <td>Gaithersburg, MD</td>\n",
       "      <td>-1</td>\n",
       "      <td>10000+ Employees</td>\n",
       "      <td>1913</td>\n",
       "      <td>Company - Public</td>\n",
       "      <td>...</td>\n",
       "      <td>Biotech &amp; Pharmaceuticals</td>\n",
       "      <td>$10+ billion (USD)</td>\n",
       "      <td>-1</td>\n",
       "      <td>92</td>\n",
       "      <td>151</td>\n",
       "      <td>121.5</td>\n",
       "      <td>AstraZeneca</td>\n",
       "      <td>MD</td>\n",
       "      <td>0</td>\n",
       "      <td>107</td>\n",
       "    </tr>\n",
       "    <tr>\n",
       "      <th>1</th>\n",
       "      <td>Director of Data Sciences</td>\n",
       "      <td>$92K-$151K (Glassdoor Est.)</td>\n",
       "      <td>Job Description:\\nThis position is responsible...</td>\n",
       "      <td>3.9</td>\n",
       "      <td>Yes Marketing\\n3.9</td>\n",
       "      <td>Omaha, NE</td>\n",
       "      <td>-1</td>\n",
       "      <td>201 to 500 Employees</td>\n",
       "      <td>2000</td>\n",
       "      <td>Subsidiary or Business Segment</td>\n",
       "      <td>...</td>\n",
       "      <td>Business Services</td>\n",
       "      <td>Unknown / Non-Applicable</td>\n",
       "      <td>-1</td>\n",
       "      <td>92</td>\n",
       "      <td>151</td>\n",
       "      <td>121.5</td>\n",
       "      <td>Yes Marketing</td>\n",
       "      <td>NE</td>\n",
       "      <td>0</td>\n",
       "      <td>20</td>\n",
       "    </tr>\n",
       "  </tbody>\n",
       "</table>\n",
       "<p>2 rows × 21 columns</p>\n",
       "</div>"
      ],
      "text/plain": [
       "                            Job Title              Salary Estimate  \\\n",
       "0  Real World Science, Data Scientist  $92K-$151K (Glassdoor Est.)   \n",
       "1           Director of Data Sciences  $92K-$151K (Glassdoor Est.)   \n",
       "\n",
       "                                     Job Description  Rating  \\\n",
       "0  Title: Real World Science, Data Scientist\\nLoc...     4.0   \n",
       "1  Job Description:\\nThis position is responsible...     3.9   \n",
       "\n",
       "         Company Name          Location  Headquarters                  Size  \\\n",
       "0    AstraZeneca\\n4.0  Gaithersburg, MD            -1      10000+ Employees   \n",
       "1  Yes Marketing\\n3.9         Omaha, NE            -1  201 to 500 Employees   \n",
       "\n",
       "   Founded               Type of ownership  ...                     Sector  \\\n",
       "0     1913                Company - Public  ...  Biotech & Pharmaceuticals   \n",
       "1     2000  Subsidiary or Business Segment  ...          Business Services   \n",
       "\n",
       "                    Revenue Competitors  min_salary  max_salary  avg_salary  \\\n",
       "0        $10+ billion (USD)          -1          92         151       121.5   \n",
       "1  Unknown / Non-Applicable          -1          92         151       121.5   \n",
       "\n",
       "    company_text job_state same_state  age  \n",
       "0    AstraZeneca        MD          0  107  \n",
       "1  Yes Marketing        NE          0   20  \n",
       "\n",
       "[2 rows x 21 columns]"
      ]
     },
     "execution_count": 211,
     "metadata": {},
     "output_type": "execute_result"
    }
   ],
   "source": [
    "df.head(2)"
   ]
  },
  {
   "cell_type": "code",
   "execution_count": 123,
   "metadata": {},
   "outputs": [
    {
     "data": {
      "text/plain": [
       "0                            AstraZeneca\n",
       "1                          Yes Marketing\n",
       "2                              Girls Inc\n",
       "3                           Metron, Inc.\n",
       "4           Breckenridge Grand Vacations\n",
       "                     ...                \n",
       "695                        Joby Aviation\n",
       "696                               Ankura\n",
       "697                  Benefits Data Trust\n",
       "698    ManTech International Corporation\n",
       "699                             Roostify\n",
       "Name: company_text, Length: 700, dtype: object"
      ]
     },
     "execution_count": 123,
     "metadata": {},
     "output_type": "execute_result"
    }
   ],
   "source": [
    "df[\"company_text\"]=df.apply(lambda x: x[\"Company Name\"] if x[\"Rating\"] <0 else x[\"Company Name\"][:-4] ,axis=1)\n",
    "df.company_text"
   ]
  },
  {
   "cell_type": "code",
   "execution_count": 170,
   "metadata": {},
   "outputs": [
    {
     "data": {
      "text/plain": [
       "CA               137\n",
       "VA                67\n",
       "NY                53\n",
       "MD                50\n",
       "MA                45\n",
       "IL                32\n",
       "TX                31\n",
       "Remote            28\n",
       "United States     26\n",
       "WA                20\n",
       "MO                19\n",
       "UT                19\n",
       "CO                18\n",
       "GA                18\n",
       "DC                16\n",
       "OH                14\n",
       "PA                14\n",
       "AZ                11\n",
       "IN                 9\n",
       "NC                 8\n",
       "FL                 7\n",
       "MI                 7\n",
       "CT                 7\n",
       "NJ                 7\n",
       "TN                 6\n",
       "MN                 6\n",
       "WI                 5\n",
       "NE                 4\n",
       "AL                 3\n",
       "SC                 3\n",
       "AR                 2\n",
       "RI                 2\n",
       "MS                 2\n",
       "WY                 1\n",
       "DE                 1\n",
       "OR                 1\n",
       "HI                 1\n",
       "Name: job_state, dtype: int64"
      ]
     },
     "execution_count": 170,
     "metadata": {},
     "output_type": "execute_result"
    }
   ],
   "source": [
    "df[\"job_state\"]=df[\"Location\"].apply(lambda x: x.split(',')[-1]).replace(\"Illinois\",'IL').replace(\"Utah\",\"UT\").replace(\"Virginia\",\"VA\").replace(\"Missouri\",\"MO\").replace(\"New Jersey\",\"NJ\").str.strip()\n",
    "df.job_state.value_counts()"
   ]
  },
  {
   "cell_type": "code",
   "execution_count": 183,
   "metadata": {},
   "outputs": [
    {
     "data": {
      "text/plain": [
       "array([107,  20,  75,  -1,  36,  81,   9,  63,  26,  51,  43,  32,  74,\n",
       "        11,   8,  13, 145,   7, 115,  23,   6,  19,  16,  24,  42,   4,\n",
       "        14, 179,  31,  22,  17,  46,  39,  21,  35,  85,  90,  57,  10,\n",
       "        29,  28, 112,   0,  27,  15,  48, 106,  62,  58,  55,   5,  69,\n",
       "        84,  40, 120,  33,  12,  97,  37, 144,  25,  98,  18,  38,  86,\n",
       "        67,   1, 142, 167,  30,  68,  54,   2, 109,  73,  56,  78, 125,\n",
       "       119, 169, 113,  45,   3, 105, 117, 133, 114, 170, 140,  52,  59,\n",
       "        34, 137,  88,  47, 149, 151, 210, 121, 130, 135], dtype=int64)"
      ]
     },
     "execution_count": 183,
     "metadata": {},
     "output_type": "execute_result"
    }
   ],
   "source": [
    "df[\"age\"]=df.Founded.apply(lambda x: x  if x<1 else 2020 -x)\n",
    "df.age.unique()"
   ]
  },
  {
   "cell_type": "code",
   "execution_count": 209,
   "metadata": {},
   "outputs": [
    {
     "data": {
      "text/html": [
       "<div>\n",
       "<style scoped>\n",
       "    .dataframe tbody tr th:only-of-type {\n",
       "        vertical-align: middle;\n",
       "    }\n",
       "\n",
       "    .dataframe tbody tr th {\n",
       "        vertical-align: top;\n",
       "    }\n",
       "\n",
       "    .dataframe thead th {\n",
       "        text-align: right;\n",
       "    }\n",
       "</style>\n",
       "<table border=\"1\" class=\"dataframe\">\n",
       "  <thead>\n",
       "    <tr style=\"text-align: right;\">\n",
       "      <th></th>\n",
       "      <th>Founded</th>\n",
       "      <th>company_text</th>\n",
       "      <th>age</th>\n",
       "    </tr>\n",
       "  </thead>\n",
       "  <tbody>\n",
       "    <tr>\n",
       "      <th>0</th>\n",
       "      <td>1913</td>\n",
       "      <td>AstraZeneca</td>\n",
       "      <td>107</td>\n",
       "    </tr>\n",
       "    <tr>\n",
       "      <th>1</th>\n",
       "      <td>2000</td>\n",
       "      <td>Yes Marketing</td>\n",
       "      <td>20</td>\n",
       "    </tr>\n",
       "    <tr>\n",
       "      <th>2</th>\n",
       "      <td>1945</td>\n",
       "      <td>Girls Inc</td>\n",
       "      <td>75</td>\n",
       "    </tr>\n",
       "    <tr>\n",
       "      <th>3</th>\n",
       "      <td>-1</td>\n",
       "      <td>Metron, Inc.</td>\n",
       "      <td>-1</td>\n",
       "    </tr>\n",
       "    <tr>\n",
       "      <th>4</th>\n",
       "      <td>1984</td>\n",
       "      <td>Breckenridge Grand Vacations</td>\n",
       "      <td>36</td>\n",
       "    </tr>\n",
       "  </tbody>\n",
       "</table>\n",
       "</div>"
      ],
      "text/plain": [
       "   Founded                  company_text  age\n",
       "0     1913                   AstraZeneca  107\n",
       "1     2000                 Yes Marketing   20\n",
       "2     1945                     Girls Inc   75\n",
       "3       -1                  Metron, Inc.   -1\n",
       "4     1984  Breckenridge Grand Vacations   36"
      ]
     },
     "execution_count": 209,
     "metadata": {},
     "output_type": "execute_result"
    }
   ],
   "source": [
    "df[[\"Founded\", \"company_text\",\"age\"]].head()"
   ]
  },
  {
   "cell_type": "code",
   "execution_count": 214,
   "metadata": {},
   "outputs": [
    {
     "data": {
      "text/plain": [
       "0      Title: Real World Science, Data Scientist\\nLoc...\n",
       "1      Job Description:\\nThis position is responsible...\n",
       "2      Summary: The Information Technology Data Analy...\n",
       "3      Job Description:\\n\\nMetron is seeking talented...\n",
       "4      Breckenridge Grand Vacations (BGV) is seeking ...\n",
       "                             ...                        \n",
       "695    Located in Northern California, the Joby Aviat...\n",
       "696    Ankura is a team of excellence founded on inno...\n",
       "697    Director of Policy\\n\\nBenefits Data Trust (BDT...\n",
       "698    Secure our Nation, Ignite your Future\\n\\nBecom...\n",
       "699    Roostify is transforming the mortgage industry...\n",
       "Name: Job Description, Length: 700, dtype: object"
      ]
     },
     "execution_count": 214,
     "metadata": {},
     "output_type": "execute_result"
    }
   ],
   "source": [
    "#Checking Job Description for specific Skills or Tools\n",
    "df[\"Job Description\"]"
   ]
  },
  {
   "cell_type": "code",
   "execution_count": 224,
   "metadata": {},
   "outputs": [
    {
     "data": {
      "text/plain": [
       "0    374\n",
       "1    326\n",
       "Name: excel_yn, dtype: int64"
      ]
     },
     "execution_count": 224,
     "metadata": {},
     "output_type": "execute_result"
    }
   ],
   "source": [
    "df[\"python_yn\"]=df[\"Job Description\"].apply (lambda x: 1 if \"python\" in x.lower() else 0)\n",
    "df[\"r_yn\"]=df[\"Job Description\"].apply (lambda x: 1 if \"r studio\" in x.lower() or \"r-studio\" in x.lower()  else 0)\n",
    "df[\"spark_yn\"]=df[\"Job Description\"].apply (lambda x: 1 if \"spark\" in x.lower() else 0)\n",
    "df[\"aws_yn\"]=df[\"Job Description\"].apply (lambda x: 1 if \"aws\" in x.lower() else 0)\n",
    "df[\"excel_yn\"]=df[\"Job Description\"].apply (lambda x: 1 if \"excel\" in x.lower() else 0)\n",
    "\n",
    "\n",
    "df.excel_yn.value_counts()\n"
   ]
  },
  {
   "cell_type": "code",
   "execution_count": 231,
   "metadata": {},
   "outputs": [
    {
     "data": {
      "text/plain": [
       "Index(['Job Title', 'Salary Estimate', 'Job Description', 'Rating',\n",
       "       'Company Name', 'Location', 'Headquarters', 'Size', 'Founded',\n",
       "       'Type of ownership', 'Industry', 'Sector', 'Revenue', 'Competitors',\n",
       "       'min_salary', 'max_salary', 'avg_salary', 'company_text', 'job_state',\n",
       "       'same_state', 'age', 'python_yn', 'rstudio_yn', 'r_yn', 'spark_yn',\n",
       "       'aws_yn', 'excel_yn'],\n",
       "      dtype='object')"
      ]
     },
     "execution_count": 231,
     "metadata": {},
     "output_type": "execute_result"
    }
   ],
   "source": [
    "df.columns"
   ]
  },
  {
   "cell_type": "code",
   "execution_count": 236,
   "metadata": {},
   "outputs": [],
   "source": [
    "df.to_csv(\"Salary.csv\",index=False)"
   ]
  },
  {
   "cell_type": "code",
   "execution_count": null,
   "metadata": {},
   "outputs": [],
   "source": []
  },
  {
   "cell_type": "code",
   "execution_count": null,
   "metadata": {},
   "outputs": [],
   "source": []
  }
 ],
 "metadata": {
  "kernelspec": {
   "display_name": "Python 3",
   "language": "python",
   "name": "python3"
  },
  "language_info": {
   "codemirror_mode": {
    "name": "ipython",
    "version": 3
   },
   "file_extension": ".py",
   "mimetype": "text/x-python",
   "name": "python",
   "nbconvert_exporter": "python",
   "pygments_lexer": "ipython3",
   "version": "3.8.3"
  }
 },
 "nbformat": 4,
 "nbformat_minor": 4
}
